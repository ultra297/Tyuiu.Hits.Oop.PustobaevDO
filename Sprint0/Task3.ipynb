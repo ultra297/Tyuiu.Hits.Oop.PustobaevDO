{
 "cells": [
  {
   "cell_type": "markdown",
   "metadata": {},
   "source": [
    "<h1 style=\"color:DodgerBlue\">Индивидуальный проект</h1>"
   ]
  },
  {
   "cell_type": "markdown",
   "metadata": {},
   "source": [
    "<h2 style=\"color:DodgerBlue\">Название проекта: индивидуальный проект</h2>\n",
    "\n",
    "---\n",
    "\n",
    "### Вариант задания № 1\n",
    "\n"
   ]
  },
  {
   "cell_type": "markdown",
   "metadata": {},
   "source": [
    "<h2 style=\"color:DodgerBlue\">Описание проекта:</h2>\n",
    "\n",
    "----\n",
    "Создать базовый класс Person в C#, который будет представлять информацию о\n",
    "человеке. На основе этого класса разработать 2-3 производных класса,\n",
    "демонстрирующих принципы наследования и полиморфизма. В каждом из классов\n",
    "должны быть реализованы новые атрибуты и методы, а также переопределены\n",
    "некоторые методы базового класса для демонстрации полиморфизма.\n",
    "\n",
    "Требования к базовому классу Person:\n",
    "• Атрибуты: Имя (Name), Возраст (Age), Пол (Gender).\n",
    "• Методы:\n",
    "o GetInfo(): метод для получения информации о человеке в виде строки.\n",
    "o SayHello(): метод для вывода приветствия от человека.\n",
    "\n",
    "Требования к производным классам:\n",
    "1. Студент (Student): Должен содержать дополнительные атрибуты, такие как\n",
    "Университет (University) и Курс (Course). Метод SayHello() должен быть\n",
    "переопределен для добавления информации о курсе при приветствии.\n",
    "2. Работник (Employee): Должен содержать дополнительные атрибуты, такие\n",
    "как Компания (Company) и Зарплата (Salary). Метод GetInfo() должен быть\n",
    "переопределен для включения информации о компании и зарплате.\n",
    "3. Преподаватель (Teacher) (если требуется третий класс): Должен содержать\n",
    "дополнительные атрибуты, такие как Предмет (Subject) и Стаж работы\n",
    "(Experience). Метод SayHello() должен быть переопределен для добавления\n",
    "информации о преподаваемом предмете при приветствии."
   ]
  },
  {
   "cell_type": "markdown",
   "metadata": {},
   "source": [
    "<h2 style=\"color:DodgerBlue\">Реализация:</h2>\n",
    "\n",
    "----"
   ]
  },
  {
   "cell_type": "code",
   "execution_count": null,
   "metadata": {
    "dotnet_interactive": {
     "language": "csharp"
    },
    "polyglot_notebook": {
     "kernelName": "csharp"
    }
   },
   "outputs": [],
   "source": [
    "class Person\n",
    "{\n",
    "    protected string Name;\n",
    "    protected int Age;\n",
    "    protected string Gender;\n",
    "\n",
    "    public Person(string name, int age, string gender)\n",
    "    {\n",
    "        this.Name = name;\n",
    "        this.Age = age;\n",
    "        this.Gender = gender;\n",
    "    }\n",
    "\n",
    "    public virtual string GetInfo()\n",
    "    {\n",
    "        return $\"Это {Name}, возраст: {Age}, пол: {Gender}.\";\n",
    "    }   \n",
    "\n",
    "    public virtual string SayHello()\n",
    "    {\n",
    "        return $\"Привет, меня зовут {Name}.\";\n",
    "    }\n",
    "    \n",
    "}\n",
    "\n",
    "class Student : Person\n",
    "{\n",
    "    private string university;\n",
    "    private int course;\n",
    "\n",
    "    public Student(string name, int age, string gender, string university, int course) : base(name, age, gender)\n",
    "    {\n",
    "         this.university = university;\n",
    "         this.course = course;\n",
    "    } \n",
    "    \n",
    "    public override string SayHello()\n",
    "    {\n",
    "        return $\"Привет! Я {Name}, мне {Age} лет, пол: {Gender}, я учусь в {university}, на {course} курсе\";\n",
    "    }\n",
    "}\n",
    "\n",
    "class Employee : Person\n",
    "{\n",
    "    private string company;\n",
    "    private int salary;\n",
    "\n",
    "    public Employee(string name, int age, string gender, string company, int salary) : base(name, age, gender)\n",
    "    {\n",
    "        this.company = company;\n",
    "        this.salary = salary;\n",
    "    }\n",
    "\n",
    "    public override string GetInfo()\n",
    "    {\n",
    "        return $\"Это {Name}, возраст: {Age}, пол: {Gender}, компания: {company}, зарплата: {salary}\";\n",
    "    }\n",
    "}\n",
    "\n",
    "class Teacher : Person\n",
    "{\n",
    "    private string subject;\n",
    "    private int experience;\n",
    "\n",
    "    public Teacher(string name, int age, string gender, string subject, int experience ) : base (name, age, gender)\n",
    "    {\n",
    "        this.subject = subject;\n",
    "        this.experience = experience;\n",
    "    }\n",
    "\n",
    "    public override string SayHello()\n",
    "    {\n",
    "        return $\"Привет! Я {Name}, мне {Age} лет, пол: {Gender}, я преподаю {subject}, стаж работы: {experience}\";\n",
    "    }\n",
    "}\n"
   ]
  }
 ],
 "metadata": {
  "kernelspec": {
   "display_name": ".NET (C#)",
   "language": "C#",
   "name": ".net-csharp"
  },
  "polyglot_notebook": {
   "kernelInfo": {
    "defaultKernelName": "csharp",
    "items": [
     {
      "aliases": [],
      "languageName": "csharp",
      "name": "csharp"
     }
    ]
   }
  }
 },
 "nbformat": 4,
 "nbformat_minor": 2
}
